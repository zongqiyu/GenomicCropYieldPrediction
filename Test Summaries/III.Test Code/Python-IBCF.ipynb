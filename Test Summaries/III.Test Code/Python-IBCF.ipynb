{
  "nbformat": 4,
  "nbformat_minor": 0,
  "metadata": {
    "colab": {
      "provenance": []
    },
    "kernelspec": {
      "name": "python3",
      "display_name": "Python 3"
    },
    "language_info": {
      "name": "python"
    }
  },
  "cells": [
    {
      "cell_type": "code",
      "source": [
        "# 用于missing column\n",
        "import numpy as np\n",
        "from pdb import lasti2lineno\n",
        "from pandas.io.parsers import readers\n",
        "import pandas as pd\n",
        "import csv\n",
        "\n",
        "original_name = 'RPunch1415_Original.csv'\n",
        "\n",
        "with open(original_name) as f:\n",
        "  reader1 = csv.reader(f)\n",
        "  lst1 = list(reader1)\n",
        "  original = np.array(lst1)\n",
        "\n",
        "original = np.delete(original,0,0)\n",
        "original = np.delete(original,0,1)\n",
        "raw_data1 = original.copy()\n",
        "\n",
        "raw_data1[0:194,4] = 0\n",
        "\n",
        "TEhalf = raw_data1.copy()\n",
        "TEhalf = TEhalf.astype(float)\n",
        "print(TEhalf)"
      ],
      "metadata": {
        "colab": {
          "base_uri": "https://localhost:8080/"
        },
        "id": "QX7MqObE_wyQ",
        "outputId": "7238ed6c-bfd8-483d-e341-b5e8a8e2ba94"
      },
      "execution_count": null,
      "outputs": [
        {
          "output_type": "stream",
          "name": "stdout",
          "text": [
            "[[3.43116738 5.61843801 4.31186282 6.17209488 0.        ]\n",
            " [4.59654273 6.92436691 6.02924363 6.87311132 0.        ]\n",
            " [4.27511409 6.2837416  5.98534499 5.95801168 0.        ]\n",
            " ...\n",
            " [3.30319918 5.49826874 6.24239068 5.55535815 3.27583724]\n",
            " [4.64099687 5.80630477 6.13589483 6.27387651 3.5027716 ]\n",
            " [4.52790166 5.92684055 5.98113295 5.67102763 3.61363472]]\n"
          ]
        }
      ]
    },
    {
      "cell_type": "code",
      "source": [
        "IBCF_error_doc = []"
      ],
      "metadata": {
        "id": "wEDthfURAV9n"
      },
      "execution_count": null,
      "outputs": []
    },
    {
      "cell_type": "code",
      "execution_count": null,
      "metadata": {
        "id": "4aPX9LqgMlII",
        "colab": {
          "base_uri": "https://localhost:8080/"
        },
        "outputId": "7785b2ed-b475-4adb-80d0-4dc6787582e5"
      },
      "outputs": [
        {
          "output_type": "stream",
          "name": "stdout",
          "text": [
            "[[3.43116738 5.61843801 4.31186282 6.17209488 3.13428758]\n",
            " [4.59654273 0.         6.02924363 0.         0.        ]\n",
            " [4.27511409 6.2837416  5.98534499 5.95801168 0.        ]\n",
            " ...\n",
            " [3.30319918 5.49826874 6.24239068 5.55535815 3.27583724]\n",
            " [0.         5.80630477 6.13589483 6.27387651 3.5027716 ]\n",
            " [4.52790166 5.92684055 5.98113295 5.67102763 3.61363472]]\n"
          ]
        }
      ],
      "source": [
        "import numpy as np\n",
        "from pdb import lasti2lineno\n",
        "from pandas.io.parsers import readers\n",
        "import pandas as pd\n",
        "import csv\n",
        "\n",
        "original_name = 'RPunch1415_Original.csv'\n",
        "yhat1_name = 'asymPunch1415_c6.csv'\n",
        "\n",
        "with open(original_name) as f:\n",
        "  reader1 = csv.reader(f)\n",
        "  lst1 = list(reader1)\n",
        "  original = np.array(lst1)\n",
        "\n",
        "\n",
        "with open(yhat1_name) as f:\n",
        "  reader21 = csv.reader(f)\n",
        "  lst21 = list(reader21)\n",
        "  yhat1 = np.array(lst21)\n",
        "\n",
        "\n",
        "original = np.delete(original,0,0)\n",
        "original = np.delete(original,0,1)\n",
        "yhat1 = np.delete(yhat1,0,0)\n",
        "yhat1 = np.delete(yhat1,0,1)\n",
        "\n",
        "raw_data1 = yhat1.copy()\n",
        "#for i in range(original.shape[0]):\n",
        "#  for j in range(original.shape[1]):\n",
        "#    if yhat1[i,j] == \"0\":\n",
        "#      raw_data1[i,j] = 0\n",
        "\n",
        "TEhalf = raw_data1.copy()\n",
        "TEhalf = TEhalf.astype(float)\n",
        "print(TEhalf)"
      ]
    },
    {
      "cell_type": "code",
      "source": [
        "from scipy import stats\n",
        "import statistics\n",
        "\n",
        "means = [0] * TEhalf.shape[1]\n",
        "sd = [0] * TEhalf.shape[1]\n",
        "scaled = np.zeros([TEhalf.shape[0],TEhalf.shape[1]])\n",
        "\n",
        "for i in range(TEhalf.shape[1]):\n",
        "  means[i] = np.mean([num for num in TEhalf[:,i] if num!= 0])\n",
        "  sd[i] = statistics.stdev([num for num in TEhalf[:,i] if num!= 0])\n",
        "\n",
        "for i in range(TEhalf.shape[1]):\n",
        "  for j in range(TEhalf.shape[0]):\n",
        "    if TEhalf[j,i] != 0:\n",
        "      scaled[j,i] = (TEhalf[j,i] - means[i]) / sd[i]\n",
        "\n",
        "print(scaled)"
      ],
      "metadata": {
        "colab": {
          "base_uri": "https://localhost:8080/"
        },
        "id": "BZsAFoTomVyo",
        "outputId": "bf2c413b-0a01-4da6-f9c7-241f3446df1f"
      },
      "execution_count": null,
      "outputs": [
        {
          "output_type": "stream",
          "name": "stdout",
          "text": [
            "[[-2.26481066 -0.94774583 -2.89730609  0.55682938  0.26569821]\n",
            " [ 1.23859856  0.          0.09674529  0.          0.        ]\n",
            " [ 0.27230383  0.76601177  0.02021318  0.05500425  0.        ]\n",
            " ...\n",
            " [-2.64951504 -1.25729023  0.46834209 -0.88884218  0.59280502]\n",
            " [ 0.         -0.46381926  0.28267911  0.79541225  1.11722716]\n",
            " [ 1.03224638 -0.15333075  0.01286998 -0.61770528  1.37342052]]\n"
          ]
        }
      ]
    },
    {
      "cell_type": "code",
      "source": [
        "from scipy.stats import pearsonr\n",
        "simTE = np.zeros([scaled.shape[1],scaled.shape[1]])\n",
        "\n",
        "def calcSim(col1,col2,scaled):\n",
        "  temp = np.zeros([scaled.shape[0],2])\n",
        "  temp[:,0] = scaled[:,col1]\n",
        "  temp[:,1] = scaled[:,col2]\n",
        "  i = 0\n",
        "  while i < temp.shape[0]:\n",
        "    for j in range(temp.shape[1]):\n",
        "      if temp[i,j] == 0:\n",
        "        #temp[i,:] = 0\n",
        "        temp = np.delete(temp,i,0)\n",
        "        i = i - 1\n",
        "    i = i + 1\n",
        "  sim = pearsonr(temp[:,0], temp[:,1])\n",
        "  return sim[0]\n",
        "\n",
        "for i in range(scaled.shape[1]):\n",
        "  for j in range(i,scaled.shape[1]):\n",
        "    simTE[i,j] = calcSim(i,j,scaled)\n",
        "    simTE[j,i] = calcSim(i,j,scaled)\n",
        "\n",
        "print(simTE)"
      ],
      "metadata": {
        "colab": {
          "base_uri": "https://localhost:8080/"
        },
        "id": "bF0Nmd1xMIAZ",
        "outputId": "f91117c2-9520-4620-8b0d-b6150e0c8c36"
      },
      "execution_count": null,
      "outputs": [
        {
          "output_type": "stream",
          "name": "stdout",
          "text": [
            "[[1.         0.33705344 0.2769528  0.30326335 0.15687425]\n",
            " [0.33705344 1.         0.40654224 0.484991   0.18676053]\n",
            " [0.2769528  0.40654224 1.         0.29586517 0.20416376]\n",
            " [0.30326335 0.484991   0.29586517 1.         0.18058127]\n",
            " [0.15687425 0.18676053 0.20416376 0.18058127 1.        ]]\n"
          ]
        }
      ]
    },
    {
      "cell_type": "code",
      "source": [
        "zhat = np.zeros([scaled.shape[0],scaled.shape[1]])\n",
        "\n",
        "def calcZhat(row,col,simTE,scaled):\n",
        "  upper = 0\n",
        "  lower = 0\n",
        "  for i in range(scaled.shape[1]):\n",
        "    if i != col:\n",
        "      upper = upper + scaled[row,i] * simTE[col,i]\n",
        "      lower = lower + abs(simTE[col,i])\n",
        "  return upper/lower\n",
        "\n",
        "for i in range(scaled.shape[0]):\n",
        "  for j in range(scaled.shape[1]):\n",
        "    if scaled[i,j] == 0:\n",
        "      zhat[i,j] = calcZhat(i,j,simTE,scaled)\n",
        "\n",
        "print(zhat)"
      ],
      "metadata": {
        "colab": {
          "base_uri": "https://localhost:8080/"
        },
        "id": "gavEsACURVl7",
        "outputId": "1397286c-1a54-4777-928e-ed86ae9a9f88"
      },
      "execution_count": null,
      "outputs": [
        {
          "output_type": "stream",
          "name": "stdout",
          "text": [
            "[[0.         0.         0.         0.         0.        ]\n",
            " [0.         0.32275116 0.         0.31963695 0.29387979]\n",
            " [0.         0.         0.         0.         0.27435928]\n",
            " ...\n",
            " [0.         0.         0.         0.         0.        ]\n",
            " [0.31507926 0.         0.         0.         0.        ]\n",
            " [0.         0.         0.         0.         0.        ]]\n"
          ]
        }
      ]
    },
    {
      "cell_type": "code",
      "source": [
        "for i in range(scaled.shape[0]):\n",
        "  for j in range(scaled.shape[1]):\n",
        "    if TEhalf[i,j] == 0:\n",
        "      TEhalf[i,j] = zhat[i,j] * sd[j] + means[j]\n",
        "print(TEhalf)"
      ],
      "metadata": {
        "colab": {
          "base_uri": "https://localhost:8080/"
        },
        "id": "jWUer63gVn7V",
        "outputId": "388e46b0-6ade-4eca-9966-a103811ab1ea"
      },
      "execution_count": null,
      "outputs": [
        {
          "output_type": "stream",
          "name": "stdout",
          "text": [
            "[[3.43116738 5.61843801 4.31186282 6.17209488 3.13428758]\n",
            " [4.59654273 6.11166191 6.02924363 6.07090641 3.14648266]\n",
            " [4.27511409 6.2837416  5.98534499 5.95801168 3.1380355 ]\n",
            " ...\n",
            " [3.30319918 5.49826874 6.24239068 5.55535815 3.27583724]\n",
            " [4.28934292 5.80630477 6.13589483 6.27387651 3.5027716 ]\n",
            " [4.52790166 5.92684055 5.98113295 5.67102763 3.61363472]]\n"
          ]
        }
      ]
    },
    {
      "cell_type": "code",
      "source": [
        "sqEr_test = 0\n",
        "\n",
        "original = original.astype(float)\n",
        "for x in range(TEhalf.shape[0]):\n",
        "  for y in range(TEhalf.shape[1]):\n",
        "    if raw_data1[x,y] == \"0\":\n",
        "      sqEr_test = sqEr_test + abs(1 - TEhalf[x,y]/original[x,y])\n",
        "      IBCF_error_doc.append(1 - TEhalf[x,y]/original[x,y])\n",
        "print(sqEr_test)"
      ],
      "metadata": {
        "colab": {
          "base_uri": "https://localhost:8080/"
        },
        "id": "0mpc1HCjfQVr",
        "outputId": "992cd5d7-7a8d-4abd-9075-2b40684d68ed"
      },
      "execution_count": null,
      "outputs": [
        {
          "output_type": "stream",
          "name": "stdout",
          "text": [
            "71.8486520455676\n"
          ]
        }
      ]
    },
    {
      "cell_type": "code",
      "source": [
        "print(len(IBCF_error_doc))"
      ],
      "metadata": {
        "colab": {
          "base_uri": "https://localhost:8080/"
        },
        "id": "Q6QHFaWxNPwM",
        "outputId": "5387f6b4-17b8-4a7a-9c6d-5d7d11232d64"
      },
      "execution_count": null,
      "outputs": [
        {
          "output_type": "stream",
          "name": "stdout",
          "text": [
            "1148\n"
          ]
        }
      ]
    },
    {
      "cell_type": "code",
      "source": [
        "from google.colab import files\n",
        "\n",
        "file1_name = \"IBCF_1415_doc.txt\"\n",
        "IBCF_error_doc = [str(item) for item in IBCF_error_doc]\n",
        "\n",
        "with open(file1_name, 'w') as file:\n",
        "  for item in IBCF_error_doc:\n",
        "        file.write(item + '\\n')\n",
        "\n",
        "files.download(file1_name)"
      ],
      "metadata": {
        "colab": {
          "base_uri": "https://localhost:8080/",
          "height": 17
        },
        "id": "qBjna14cAE18",
        "outputId": "85616622-9be0-4903-dd52-f41ec3dbb9eb"
      },
      "execution_count": null,
      "outputs": [
        {
          "output_type": "display_data",
          "data": {
            "text/plain": [
              "<IPython.core.display.Javascript object>"
            ],
            "application/javascript": [
              "\n",
              "    async function download(id, filename, size) {\n",
              "      if (!google.colab.kernel.accessAllowed) {\n",
              "        return;\n",
              "      }\n",
              "      const div = document.createElement('div');\n",
              "      const label = document.createElement('label');\n",
              "      label.textContent = `Downloading \"${filename}\": `;\n",
              "      div.appendChild(label);\n",
              "      const progress = document.createElement('progress');\n",
              "      progress.max = size;\n",
              "      div.appendChild(progress);\n",
              "      document.body.appendChild(div);\n",
              "\n",
              "      const buffers = [];\n",
              "      let downloaded = 0;\n",
              "\n",
              "      const channel = await google.colab.kernel.comms.open(id);\n",
              "      // Send a message to notify the kernel that we're ready.\n",
              "      channel.send({})\n",
              "\n",
              "      for await (const message of channel.messages) {\n",
              "        // Send a message to notify the kernel that we're ready.\n",
              "        channel.send({})\n",
              "        if (message.buffers) {\n",
              "          for (const buffer of message.buffers) {\n",
              "            buffers.push(buffer);\n",
              "            downloaded += buffer.byteLength;\n",
              "            progress.value = downloaded;\n",
              "          }\n",
              "        }\n",
              "      }\n",
              "      const blob = new Blob(buffers, {type: 'application/binary'});\n",
              "      const a = document.createElement('a');\n",
              "      a.href = window.URL.createObjectURL(blob);\n",
              "      a.download = filename;\n",
              "      div.appendChild(a);\n",
              "      a.click();\n",
              "      div.remove();\n",
              "    }\n",
              "  "
            ]
          },
          "metadata": {}
        },
        {
          "output_type": "display_data",
          "data": {
            "text/plain": [
              "<IPython.core.display.Javascript object>"
            ],
            "application/javascript": [
              "download(\"download_eb3e6155-3d2b-4edd-adc8-c5f4584f7852\", \"IBCF_1415_doc.txt\", 22814)"
            ]
          },
          "metadata": {}
        }
      ]
    },
    {
      "cell_type": "code",
      "source": [
        "np.set_printoptions(threshold=10)\n",
        "print(raw_data1)"
      ],
      "metadata": {
        "colab": {
          "base_uri": "https://localhost:8080/"
        },
        "id": "hOOxaCSWZTrP",
        "outputId": "7492e4ae-2281-44b2-a478-a9d4a608302f"
      },
      "execution_count": null,
      "outputs": [
        {
          "output_type": "stream",
          "name": "stdout",
          "text": [
            "[['6.119271599' '5.905514512' '6.456711355' '2.160587049']\n",
            " ['5.855879172' '7.118312419' '7.364973928' '3.616688289']\n",
            " ['6.434748022' '6.790187269' '7.058421111' '2.843622473']\n",
            " ...\n",
            " ['6.271447065' '6.201478176' '6.467272333' '3.011499335']\n",
            " ['5.530375459' '6.021418903' '6.778383726' '3.001082395']\n",
            " ['6.00129518' '6.353492986' '6.332680103' '3.355064895']]\n"
          ]
        }
      ]
    }
  ]
}